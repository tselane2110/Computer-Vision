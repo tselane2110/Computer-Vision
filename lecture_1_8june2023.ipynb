{
  "nbformat": 4,
  "nbformat_minor": 0,
  "metadata": {
    "colab": {
      "provenance": [],
      "authorship_tag": "ABX9TyNLDkhnd+myaJmO16o/c/ob",
      "include_colab_link": true
    },
    "kernelspec": {
      "name": "python3",
      "display_name": "Python 3"
    },
    "language_info": {
      "name": "python"
    }
  },
  "cells": [
    {
      "cell_type": "markdown",
      "metadata": {
        "id": "view-in-github",
        "colab_type": "text"
      },
      "source": [
        "<a href=\"https://colab.research.google.com/github/tselane2110/Computer-Vision/blob/main/lecture_1_8june2023.ipynb\" target=\"_parent\"><img src=\"https://colab.research.google.com/assets/colab-badge.svg\" alt=\"Open In Colab\"/></a>"
      ]
    },
    {
      "cell_type": "code",
      "execution_count": null,
      "metadata": {
        "id": "ej_WHG4YSgUu"
      },
      "outputs": [],
      "source": [
        "import tensorflow as tf"
      ]
    },
    {
      "cell_type": "code",
      "source": [
        "# no dimension tensor\n",
        "t0 = tf.constant(8)\n",
        "print(t0)"
      ],
      "metadata": {
        "id": "zBe-fxzuTHa9",
        "colab": {
          "base_uri": "https://localhost:8080/"
        },
        "outputId": "0a0cea09-e4cf-4ce3-a563-d7ee7c578fc0"
      },
      "execution_count": null,
      "outputs": [
        {
          "output_type": "stream",
          "name": "stdout",
          "text": [
            "tf.Tensor(8, shape=(), dtype=int32)\n"
          ]
        }
      ]
    },
    {
      "cell_type": "code",
      "source": [
        "# 1 dimensional tensor\n",
        "t1 = tf.constant([1])\n",
        "print(t1)"
      ],
      "metadata": {
        "id": "0tQqHd1NTqDY",
        "colab": {
          "base_uri": "https://localhost:8080/"
        },
        "outputId": "68351c3a-0164-4360-c17c-746171854b06"
      },
      "execution_count": null,
      "outputs": [
        {
          "output_type": "stream",
          "name": "stdout",
          "text": [
            "tf.Tensor([1], shape=(1,), dtype=int32)\n"
          ]
        }
      ]
    },
    {
      "cell_type": "code",
      "source": [
        "# 2 dimensional tensor\n",
        "t2 = tf.constant([\n",
        "                    [1, 5],\n",
        "                    [25, 3],\n",
        "                    [0, 0]\n",
        "                ])\n",
        "print(t2)"
      ],
      "metadata": {
        "colab": {
          "base_uri": "https://localhost:8080/"
        },
        "id": "v0vT1bbhVhaJ",
        "outputId": "6217d611-941a-4049-872c-2d198968743c"
      },
      "execution_count": null,
      "outputs": [
        {
          "output_type": "stream",
          "name": "stdout",
          "text": [
            "tf.Tensor(\n",
            "[[ 1  5]\n",
            " [25  3]\n",
            " [ 0  0]], shape=(3, 2), dtype=int32)\n"
          ]
        }
      ]
    },
    {
      "cell_type": "code",
      "source": [
        "# 3 dimensional tensor\n",
        "t3 = tf.constant(\n",
        "    [\n",
        "        [\n",
        "            [1, 2],\n",
        "            [3, 4],\n",
        "            [5, 6]\n",
        "        ],\n",
        "        [\n",
        "            [25, 66],\n",
        "            [38, 44],\n",
        "            [29, 33]\n",
        "        ],\n",
        "        [\n",
        "            [25, 66],\n",
        "            [38, 44],\n",
        "            [29, 33]\n",
        "        ],\n",
        "        [\n",
        "            [25, 66],\n",
        "            [38, 44],\n",
        "            [29, 33]\n",
        "        ]\n",
        "    ]\n",
        ")\n",
        "print(t3)\n",
        "\n",
        "# 4 - 2D tensors\n",
        "# 3 - 1D tensors\n",
        "# 2 - 0D tensors :)) as simple as that!"
      ],
      "metadata": {
        "colab": {
          "base_uri": "https://localhost:8080/"
        },
        "id": "FdvN-2olVrSu",
        "outputId": "67962c42-ac13-47a5-c7cf-c0ef770f35aa"
      },
      "execution_count": null,
      "outputs": [
        {
          "output_type": "stream",
          "name": "stdout",
          "text": [
            "tf.Tensor(\n",
            "[[[ 1  2]\n",
            "  [ 3  4]\n",
            "  [ 5  6]]\n",
            "\n",
            " [[25 66]\n",
            "  [38 44]\n",
            "  [29 33]]\n",
            "\n",
            " [[25 66]\n",
            "  [38 44]\n",
            "  [29 33]]\n",
            "\n",
            " [[25 66]\n",
            "  [38 44]\n",
            "  [29 33]]], shape=(4, 3, 2), dtype=int32)\n"
          ]
        }
      ]
    },
    {
      "cell_type": "code",
      "source": [
        "# print \"shapes\" of tensors using the shape function!\n",
        "print(t3.shape, t2.shape, t1.shape, t0.shape)"
      ],
      "metadata": {
        "colab": {
          "base_uri": "https://localhost:8080/"
        },
        "id": "Q8yAIr5OWR-7",
        "outputId": "d46f344f-b737-4116-afb8-77de475322b6"
      },
      "execution_count": null,
      "outputs": [
        {
          "output_type": "stream",
          "name": "stdout",
          "text": [
            "(4, 3, 2) (3, 2) (1,) ()\n"
          ]
        }
      ]
    },
    {
      "cell_type": "code",
      "source": [],
      "metadata": {
        "id": "Lq8citW3XYud"
      },
      "execution_count": null,
      "outputs": []
    }
  ]
}